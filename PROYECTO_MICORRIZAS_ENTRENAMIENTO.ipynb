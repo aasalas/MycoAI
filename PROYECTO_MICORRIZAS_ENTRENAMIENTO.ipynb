{
  "cells": [
    {
      "cell_type": "code",
      "source": [
        "!pip install tensorflow==2.8.0 tensorflow-hub==0.12.0\n"
      ],
      "metadata": {
        "colab": {
          "base_uri": "https://localhost:8080/"
        },
        "id": "2NK8xgifak_5",
        "outputId": "ac7d7462-547e-4ca0-aa06-69fc4839ac43"
      },
      "execution_count": 2,
      "outputs": [
        {
          "output_type": "stream",
          "name": "stdout",
          "text": [
            "Requirement already satisfied: tensorflow==2.8.0 in /usr/local/lib/python3.10/dist-packages (2.8.0)\n",
            "Requirement already satisfied: tensorflow-hub==0.12.0 in /usr/local/lib/python3.10/dist-packages (0.12.0)\n",
            "Requirement already satisfied: absl-py>=0.4.0 in /usr/local/lib/python3.10/dist-packages (from tensorflow==2.8.0) (1.4.0)\n",
            "Requirement already satisfied: astunparse>=1.6.0 in /usr/local/lib/python3.10/dist-packages (from tensorflow==2.8.0) (1.6.3)\n",
            "Requirement already satisfied: flatbuffers>=1.12 in /usr/local/lib/python3.10/dist-packages (from tensorflow==2.8.0) (24.3.25)\n",
            "Requirement already satisfied: gast>=0.2.1 in /usr/local/lib/python3.10/dist-packages (from tensorflow==2.8.0) (0.6.0)\n",
            "Requirement already satisfied: google-pasta>=0.1.1 in /usr/local/lib/python3.10/dist-packages (from tensorflow==2.8.0) (0.2.0)\n",
            "Requirement already satisfied: h5py>=2.9.0 in /usr/local/lib/python3.10/dist-packages (from tensorflow==2.8.0) (3.11.0)\n",
            "Requirement already satisfied: keras-preprocessing>=1.1.1 in /usr/local/lib/python3.10/dist-packages (from tensorflow==2.8.0) (1.1.2)\n",
            "Requirement already satisfied: libclang>=9.0.1 in /usr/local/lib/python3.10/dist-packages (from tensorflow==2.8.0) (18.1.1)\n",
            "Requirement already satisfied: numpy>=1.20 in /usr/local/lib/python3.10/dist-packages (from tensorflow==2.8.0) (1.26.4)\n",
            "Requirement already satisfied: opt-einsum>=2.3.2 in /usr/local/lib/python3.10/dist-packages (from tensorflow==2.8.0) (3.3.0)\n",
            "Requirement already satisfied: protobuf>=3.9.2 in /usr/local/lib/python3.10/dist-packages (from tensorflow==2.8.0) (3.20.3)\n",
            "Requirement already satisfied: setuptools in /usr/local/lib/python3.10/dist-packages (from tensorflow==2.8.0) (71.0.4)\n",
            "Requirement already satisfied: six>=1.12.0 in /usr/local/lib/python3.10/dist-packages (from tensorflow==2.8.0) (1.16.0)\n",
            "Requirement already satisfied: termcolor>=1.1.0 in /usr/local/lib/python3.10/dist-packages (from tensorflow==2.8.0) (2.4.0)\n",
            "Requirement already satisfied: typing-extensions>=3.6.6 in /usr/local/lib/python3.10/dist-packages (from tensorflow==2.8.0) (4.12.2)\n",
            "Requirement already satisfied: wrapt>=1.11.0 in /usr/local/lib/python3.10/dist-packages (from tensorflow==2.8.0) (1.16.0)\n",
            "Requirement already satisfied: tensorboard<2.9,>=2.8 in /usr/local/lib/python3.10/dist-packages (from tensorflow==2.8.0) (2.8.0)\n",
            "Requirement already satisfied: tf-estimator-nightly==2.8.0.dev2021122109 in /usr/local/lib/python3.10/dist-packages (from tensorflow==2.8.0) (2.8.0.dev2021122109)\n",
            "Requirement already satisfied: keras<2.9,>=2.8.0rc0 in /usr/local/lib/python3.10/dist-packages (from tensorflow==2.8.0) (2.8.0)\n",
            "Requirement already satisfied: tensorflow-io-gcs-filesystem>=0.23.1 in /usr/local/lib/python3.10/dist-packages (from tensorflow==2.8.0) (0.37.1)\n",
            "Requirement already satisfied: grpcio<2.0,>=1.24.3 in /usr/local/lib/python3.10/dist-packages (from tensorflow==2.8.0) (1.64.1)\n",
            "Requirement already satisfied: wheel<1.0,>=0.23.0 in /usr/local/lib/python3.10/dist-packages (from astunparse>=1.6.0->tensorflow==2.8.0) (0.44.0)\n",
            "Requirement already satisfied: google-auth<3,>=1.6.3 in /usr/local/lib/python3.10/dist-packages (from tensorboard<2.9,>=2.8->tensorflow==2.8.0) (2.27.0)\n",
            "Requirement already satisfied: google-auth-oauthlib<0.5,>=0.4.1 in /usr/local/lib/python3.10/dist-packages (from tensorboard<2.9,>=2.8->tensorflow==2.8.0) (0.4.6)\n",
            "Requirement already satisfied: markdown>=2.6.8 in /usr/local/lib/python3.10/dist-packages (from tensorboard<2.9,>=2.8->tensorflow==2.8.0) (3.7)\n",
            "Requirement already satisfied: requests<3,>=2.21.0 in /usr/local/lib/python3.10/dist-packages (from tensorboard<2.9,>=2.8->tensorflow==2.8.0) (2.32.3)\n",
            "Requirement already satisfied: tensorboard-data-server<0.7.0,>=0.6.0 in /usr/local/lib/python3.10/dist-packages (from tensorboard<2.9,>=2.8->tensorflow==2.8.0) (0.6.1)\n",
            "Requirement already satisfied: tensorboard-plugin-wit>=1.6.0 in /usr/local/lib/python3.10/dist-packages (from tensorboard<2.9,>=2.8->tensorflow==2.8.0) (1.8.1)\n",
            "Requirement already satisfied: werkzeug>=0.11.15 in /usr/local/lib/python3.10/dist-packages (from tensorboard<2.9,>=2.8->tensorflow==2.8.0) (3.0.4)\n",
            "Requirement already satisfied: cachetools<6.0,>=2.0.0 in /usr/local/lib/python3.10/dist-packages (from google-auth<3,>=1.6.3->tensorboard<2.9,>=2.8->tensorflow==2.8.0) (5.5.0)\n",
            "Requirement already satisfied: pyasn1-modules>=0.2.1 in /usr/local/lib/python3.10/dist-packages (from google-auth<3,>=1.6.3->tensorboard<2.9,>=2.8->tensorflow==2.8.0) (0.4.0)\n",
            "Requirement already satisfied: rsa<5,>=3.1.4 in /usr/local/lib/python3.10/dist-packages (from google-auth<3,>=1.6.3->tensorboard<2.9,>=2.8->tensorflow==2.8.0) (4.9)\n",
            "Requirement already satisfied: requests-oauthlib>=0.7.0 in /usr/local/lib/python3.10/dist-packages (from google-auth-oauthlib<0.5,>=0.4.1->tensorboard<2.9,>=2.8->tensorflow==2.8.0) (1.3.1)\n",
            "Requirement already satisfied: charset-normalizer<4,>=2 in /usr/local/lib/python3.10/dist-packages (from requests<3,>=2.21.0->tensorboard<2.9,>=2.8->tensorflow==2.8.0) (3.3.2)\n",
            "Requirement already satisfied: idna<4,>=2.5 in /usr/local/lib/python3.10/dist-packages (from requests<3,>=2.21.0->tensorboard<2.9,>=2.8->tensorflow==2.8.0) (3.8)\n",
            "Requirement already satisfied: urllib3<3,>=1.21.1 in /usr/local/lib/python3.10/dist-packages (from requests<3,>=2.21.0->tensorboard<2.9,>=2.8->tensorflow==2.8.0) (2.0.7)\n",
            "Requirement already satisfied: certifi>=2017.4.17 in /usr/local/lib/python3.10/dist-packages (from requests<3,>=2.21.0->tensorboard<2.9,>=2.8->tensorflow==2.8.0) (2024.8.30)\n",
            "Requirement already satisfied: MarkupSafe>=2.1.1 in /usr/local/lib/python3.10/dist-packages (from werkzeug>=0.11.15->tensorboard<2.9,>=2.8->tensorflow==2.8.0) (2.1.5)\n",
            "Requirement already satisfied: pyasn1<0.7.0,>=0.4.6 in /usr/local/lib/python3.10/dist-packages (from pyasn1-modules>=0.2.1->google-auth<3,>=1.6.3->tensorboard<2.9,>=2.8->tensorflow==2.8.0) (0.6.0)\n",
            "Requirement already satisfied: oauthlib>=3.0.0 in /usr/local/lib/python3.10/dist-packages (from requests-oauthlib>=0.7.0->google-auth-oauthlib<0.5,>=0.4.1->tensorboard<2.9,>=2.8->tensorflow==2.8.0) (3.2.2)\n"
          ]
        }
      ]
    },
    {
      "cell_type": "code",
      "execution_count": 3,
      "metadata": {
        "colab": {
          "base_uri": "https://localhost:8080/"
        },
        "id": "TVuh-qWK_HmK",
        "outputId": "17fb7e75-634d-461b-a218-6adb627996f2"
      },
      "outputs": [
        {
          "output_type": "stream",
          "name": "stdout",
          "text": [
            "Mounted at /content/drive\n",
            "/content/drive/MyDrive\n",
            "Archive:  micorrizas_dataset.zip\n",
            " extracting: /content/Dataset_zip/Ectomicorriza.zip  \n",
            " extracting: /content/Dataset_zip/Endomicorriza.zip  \n",
            "Carpeta Ectomicorriza contiene 539 archivos\n",
            "Carpeta Endomicorriza contiene 552 archivos\n"
          ]
        }
      ],
      "source": [
        "# Montar Google Drive\n",
        "from google.colab import drive\n",
        "drive.mount('/content/drive')\n",
        "\n",
        "# Cambiar a la ruta donde está el archivo zip principal en Google Drive\n",
        "%cd /content/drive/MyDrive\n",
        "\n",
        "# Descomprimir el archivo zip principal\n",
        "!unzip micorrizas_dataset.zip -d /content/Dataset_zip\n",
        "\n",
        "# Importar las bibliotecas necesarias\n",
        "import os\n",
        "import zipfile\n",
        "\n",
        "# Ruta donde se descomprimieron los archivos zip\n",
        "path_to_zips = '/content/Dataset_zip'\n",
        "\n",
        "# Crear un listado de todos los archivos zip\n",
        "zip_files = [f for f in os.listdir(path_to_zips) if f.endswith('.zip')]\n",
        "\n",
        "for zip_file in zip_files:\n",
        "    # Obtener el nombre del archivo sin la extensión\n",
        "    folder_name = os.path.splitext(zip_file)[0]\n",
        "\n",
        "    # Crear la carpeta con el nombre del archivo zip\n",
        "    os.makedirs(os.path.join(path_to_zips, folder_name), exist_ok=True)\n",
        "\n",
        "    # Ruta completa del archivo zip\n",
        "    zip_file_path = os.path.join(path_to_zips, zip_file)\n",
        "\n",
        "    # Descomprimir el archivo zip en su carpeta respectiva\n",
        "    with zipfile.ZipFile(zip_file_path, 'r') as zip_ref:\n",
        "        zip_ref.extractall(os.path.join(path_to_zips, folder_name))\n",
        "\n",
        "    # Eliminar el archivo zip después de descomprimirlo\n",
        "    os.remove(zip_file_path)\n",
        "\n",
        "# Verificación\n",
        "for folder in os.listdir(path_to_zips):\n",
        "    print(f\"Carpeta {folder} contiene {len(os.listdir(os.path.join(path_to_zips, folder)))} archivos\")\n"
      ]
    },
    {
      "cell_type": "code",
      "execution_count": 4,
      "metadata": {
        "colab": {
          "base_uri": "https://localhost:8080/",
          "height": 360
        },
        "id": "NDAey96tAbm4",
        "outputId": "36a79482-7a1c-40d4-f5e6-824f9e369396"
      },
      "outputs": [
        {
          "output_type": "stream",
          "name": "stdout",
          "text": [
            "Found 874 images belonging to 2 classes.\n",
            "Found 217 images belonging to 2 classes.\n"
          ]
        },
        {
          "output_type": "display_data",
          "data": {
            "text/plain": [
              "<Figure size 640x480 with 10 Axes>"
            ],
            "image/png": "[encoded data removed]"
          },
          "metadata": {}
        }
      ],
      "source": [
        "#Aumento de datos con ImageDataGenerator\n",
        "from tensorflow.keras.preprocessing.image import ImageDataGenerator\n",
        "import numpy as np\n",
        "import matplotlib.pyplot as plt # Import the matplotlib library\n",
        "\n",
        "#Crear el dataset generador\n",
        "datagen = ImageDataGenerator(\n",
        "    rescale=1. / 255,\n",
        "    rotation_range = 30,\n",
        "    width_shift_range = 0.25,\n",
        "    height_shift_range = 0.25,\n",
        "    shear_range = 15,\n",
        "    zoom_range = [0.5, 1.5],\n",
        "    validation_split=0.2 #20% para pruebas\n",
        ")\n",
        "\n",
        "#Generadores para sets de entrenamiento y pruebas\n",
        "data_gen_entrenamiento = datagen.flow_from_directory('/content/Dataset_zip', target_size=(224,224),\n",
        "                                                     batch_size=32, shuffle=True, subset='training')\n",
        "data_gen_pruebas = datagen.flow_from_directory('/content/Dataset_zip', target_size=(224,224),\n",
        "                                                     batch_size=32, shuffle=True, subset='validation')\n",
        "\n",
        "#Imprimir 10 imagenes del generador de entrenamiento\n",
        "for imagen, etiqueta in data_gen_entrenamiento:\n",
        "  for i in range(10):\n",
        "    plt.subplot(2,5,i+1)\n",
        "    plt.xticks([])\n",
        "    plt.yticks([])\n",
        "    plt.imshow(imagen[i])\n",
        "  break\n",
        "plt.show()\n"
      ]
    },
    {
      "cell_type": "code",
      "execution_count": 6,
      "metadata": {
        "id": "S0po1Lz-BMLq"
      },
      "outputs": [],
      "source": [
        "import tensorflow as tf\n",
        "import tensorflow_hub as hub\n",
        "\n",
        "url = \"https://tfhub.dev/google/tf2-preview/mobilenet_v2/feature_vector/4\"\n",
        "mobilenetv2 = hub.KerasLayer(url, input_shape=(224,224,3))"
      ]
    },
    {
      "cell_type": "code",
      "execution_count": 7,
      "metadata": {
        "id": "qVMFDKzQBOen"
      },
      "outputs": [],
      "source": [
        "#Congelar el modelo descargado\n",
        "mobilenetv2.trainable = False"
      ]
    },
    {
      "cell_type": "code",
      "execution_count": 8,
      "metadata": {
        "id": "iYnJDf-jBRXG"
      },
      "outputs": [],
      "source": [
        "modelo = tf.keras.Sequential([\n",
        "    mobilenetv2,\n",
        "    tf.keras.layers.Dense(2, activation='softmax')\n",
        "])"
      ]
    },
    {
      "cell_type": "code",
      "execution_count": 9,
      "metadata": {
        "colab": {
          "base_uri": "https://localhost:8080/"
        },
        "id": "uLxVWLODBTIe",
        "outputId": "aeac6101-73ee-4962-a498-635b86916eba"
      },
      "outputs": [
        {
          "output_type": "stream",
          "name": "stdout",
          "text": [
            "Model: \"sequential\"\n",
            "_________________________________________________________________\n",
            " Layer (type)                Output Shape              Param #   \n",
            "=================================================================\n",
            " keras_layer (KerasLayer)    (None, 1280)              2257984   \n",
            "                                                                 \n",
            " dense (Dense)               (None, 2)                 2562      \n",
            "                                                                 \n",
            "=================================================================\n",
            "Total params: 2,260,546\n",
            "Trainable params: 2,562\n",
            "Non-trainable params: 2,257,984\n",
            "_________________________________________________________________\n"
          ]
        }
      ],
      "source": [
        "modelo.summary()"
      ]
    },
    {
      "cell_type": "code",
      "execution_count": 10,
      "metadata": {
        "id": "t7Mv3aNGBT0Z"
      },
      "outputs": [],
      "source": [
        "#Compilar como siempre\n",
        "modelo.compile(\n",
        "    optimizer='adam',\n",
        "    loss='categorical_crossentropy',\n",
        "    metrics=['accuracy']\n",
        ")"
      ]
    },
    {
      "cell_type": "code",
      "execution_count": 11,
      "metadata": {
        "colab": {
          "base_uri": "https://localhost:8080/"
        },
        "id": "4SUJW0mZBT7q",
        "outputId": "2e070c62-4dc4-44f1-f8ff-b6b63b66c47d"
      },
      "outputs": [
        {
          "output_type": "stream",
          "name": "stdout",
          "text": [
            "Epoch 1/50\n",
            "55/55 [==============================] - 136s 2s/step - loss: 0.7163 - accuracy: 0.5965 - val_loss: 0.6184 - val_accuracy: 0.6483\n",
            "Epoch 2/50\n",
            "55/55 [==============================] - 129s 2s/step - loss: 0.6180 - accuracy: 0.6709 - val_loss: 0.6194 - val_accuracy: 0.6759\n",
            "Epoch 3/50\n",
            "55/55 [==============================] - 128s 2s/step - loss: 0.5583 - accuracy: 0.7184 - val_loss: 0.5867 - val_accuracy: 0.7034\n",
            "Epoch 4/50\n",
            "55/55 [==============================] - 123s 2s/step - loss: 0.5256 - accuracy: 0.7378 - val_loss: 0.5639 - val_accuracy: 0.7287\n",
            "Epoch 5/50\n",
            "55/55 [==============================] - 122s 2s/step - loss: 0.4904 - accuracy: 0.7521 - val_loss: 0.5364 - val_accuracy: 0.7241\n",
            "Epoch 6/50\n",
            "55/55 [==============================] - 131s 2s/step - loss: 0.5120 - accuracy: 0.7533 - val_loss: 0.5398 - val_accuracy: 0.7195\n",
            "Epoch 7/50\n",
            "55/55 [==============================] - 127s 2s/step - loss: 0.4976 - accuracy: 0.7630 - val_loss: 0.5175 - val_accuracy: 0.7402\n",
            "Epoch 8/50\n",
            "55/55 [==============================] - 125s 2s/step - loss: 0.4758 - accuracy: 0.7636 - val_loss: 0.4972 - val_accuracy: 0.7448\n",
            "Epoch 9/50\n",
            "55/55 [==============================] - 127s 2s/step - loss: 0.4618 - accuracy: 0.7894 - val_loss: 0.4749 - val_accuracy: 0.7655\n",
            "Epoch 10/50\n",
            "55/55 [==============================] - 123s 2s/step - loss: 0.4667 - accuracy: 0.7762 - val_loss: 0.5636 - val_accuracy: 0.7264\n",
            "Epoch 11/50\n",
            "55/55 [==============================] - 126s 2s/step - loss: 0.4715 - accuracy: 0.7670 - val_loss: 0.4878 - val_accuracy: 0.7586\n",
            "Epoch 12/50\n",
            "55/55 [==============================] - 113s 2s/step - loss: 0.4500 - accuracy: 0.7853 - val_loss: 0.4770 - val_accuracy: 0.7632\n",
            "Epoch 13/50\n",
            "55/55 [==============================] - 119s 2s/step - loss: 0.4404 - accuracy: 0.7876 - val_loss: 0.5474 - val_accuracy: 0.7379\n",
            "Epoch 14/50\n",
            "55/55 [==============================] - 115s 2s/step - loss: 0.4389 - accuracy: 0.7888 - val_loss: 0.5301 - val_accuracy: 0.7494\n",
            "Epoch 15/50\n",
            "55/55 [==============================] - 119s 2s/step - loss: 0.4623 - accuracy: 0.7693 - val_loss: 0.4908 - val_accuracy: 0.7747\n",
            "Epoch 16/50\n",
            "55/55 [==============================] - 126s 2s/step - loss: 0.4211 - accuracy: 0.8042 - val_loss: 0.5115 - val_accuracy: 0.7356\n",
            "Epoch 17/50\n",
            "55/55 [==============================] - 116s 2s/step - loss: 0.4368 - accuracy: 0.8002 - val_loss: 0.4623 - val_accuracy: 0.7793\n",
            "Epoch 18/50\n",
            "55/55 [==============================] - 116s 2s/step - loss: 0.4406 - accuracy: 0.7962 - val_loss: 0.4646 - val_accuracy: 0.7839\n",
            "Epoch 19/50\n",
            "55/55 [==============================] - 122s 2s/step - loss: 0.4114 - accuracy: 0.8185 - val_loss: 0.4794 - val_accuracy: 0.7609\n",
            "Epoch 20/50\n",
            "55/55 [==============================] - 121s 2s/step - loss: 0.4317 - accuracy: 0.7939 - val_loss: 0.4877 - val_accuracy: 0.7701\n",
            "Epoch 21/50\n",
            "55/55 [==============================] - 117s 2s/step - loss: 0.4219 - accuracy: 0.8174 - val_loss: 0.5399 - val_accuracy: 0.7195\n",
            "Epoch 22/50\n",
            "55/55 [==============================] - 118s 2s/step - loss: 0.4297 - accuracy: 0.8019 - val_loss: 0.4927 - val_accuracy: 0.7632\n",
            "Epoch 23/50\n",
            "55/55 [==============================] - 114s 2s/step - loss: 0.4068 - accuracy: 0.8134 - val_loss: 0.4749 - val_accuracy: 0.7517\n",
            "Epoch 24/50\n",
            "55/55 [==============================] - 117s 2s/step - loss: 0.4197 - accuracy: 0.8082 - val_loss: 0.4451 - val_accuracy: 0.7816\n",
            "Epoch 25/50\n",
            "55/55 [==============================] - 115s 2s/step - loss: 0.4068 - accuracy: 0.8163 - val_loss: 0.4342 - val_accuracy: 0.7977\n",
            "Epoch 26/50\n",
            "55/55 [==============================] - 114s 2s/step - loss: 0.4046 - accuracy: 0.8117 - val_loss: 0.5067 - val_accuracy: 0.7609\n",
            "Epoch 27/50\n",
            "55/55 [==============================] - 119s 2s/step - loss: 0.4149 - accuracy: 0.8065 - val_loss: 0.4866 - val_accuracy: 0.7655\n",
            "Epoch 28/50\n",
            "55/55 [==============================] - 114s 2s/step - loss: 0.3877 - accuracy: 0.8346 - val_loss: 0.4581 - val_accuracy: 0.7747\n",
            "Epoch 29/50\n",
            "55/55 [==============================] - 114s 2s/step - loss: 0.3719 - accuracy: 0.8317 - val_loss: 0.5539 - val_accuracy: 0.7448\n",
            "Epoch 30/50\n",
            "55/55 [==============================] - 118s 2s/step - loss: 0.4256 - accuracy: 0.8077 - val_loss: 0.5030 - val_accuracy: 0.7770\n",
            "Epoch 31/50\n",
            "55/55 [==============================] - 116s 2s/step - loss: 0.3951 - accuracy: 0.8243 - val_loss: 0.4105 - val_accuracy: 0.8092\n",
            "Epoch 32/50\n",
            "55/55 [==============================] - 112s 2s/step - loss: 0.3859 - accuracy: 0.8214 - val_loss: 0.4733 - val_accuracy: 0.7816\n",
            "Epoch 33/50\n",
            "55/55 [==============================] - 114s 2s/step - loss: 0.3757 - accuracy: 0.8311 - val_loss: 0.4897 - val_accuracy: 0.7632\n",
            "Epoch 34/50\n",
            "55/55 [==============================] - 115s 2s/step - loss: 0.3864 - accuracy: 0.8266 - val_loss: 0.4527 - val_accuracy: 0.7793\n",
            "Epoch 35/50\n",
            "55/55 [==============================] - 112s 2s/step - loss: 0.3980 - accuracy: 0.8174 - val_loss: 0.4962 - val_accuracy: 0.7839\n",
            "Epoch 36/50\n",
            "55/55 [==============================] - 112s 2s/step - loss: 0.4054 - accuracy: 0.8117 - val_loss: 0.4800 - val_accuracy: 0.7885\n",
            "Epoch 37/50\n",
            "55/55 [==============================] - 109s 2s/step - loss: 0.3931 - accuracy: 0.8226 - val_loss: 0.4568 - val_accuracy: 0.7609\n",
            "Epoch 38/50\n",
            "55/55 [==============================] - 122s 2s/step - loss: 0.3967 - accuracy: 0.8248 - val_loss: 0.4870 - val_accuracy: 0.7678\n",
            "Epoch 39/50\n",
            "55/55 [==============================] - 117s 2s/step - loss: 0.4022 - accuracy: 0.8134 - val_loss: 0.5020 - val_accuracy: 0.7724\n",
            "Epoch 40/50\n",
            "55/55 [==============================] - 116s 2s/step - loss: 0.4051 - accuracy: 0.8163 - val_loss: 0.5340 - val_accuracy: 0.7563\n",
            "Epoch 41/50\n",
            "55/55 [==============================] - 112s 2s/step - loss: 0.3941 - accuracy: 0.8185 - val_loss: 0.4511 - val_accuracy: 0.7701\n",
            "Epoch 42/50\n",
            "55/55 [==============================] - 115s 2s/step - loss: 0.3926 - accuracy: 0.8277 - val_loss: 0.4676 - val_accuracy: 0.7816\n",
            "Epoch 43/50\n",
            "55/55 [==============================] - 113s 2s/step - loss: 0.4164 - accuracy: 0.8077 - val_loss: 0.4462 - val_accuracy: 0.7747\n",
            "Epoch 44/50\n",
            "55/55 [==============================] - 111s 2s/step - loss: 0.3828 - accuracy: 0.8180 - val_loss: 0.4749 - val_accuracy: 0.7632\n",
            "Epoch 45/50\n",
            "55/55 [==============================] - 110s 2s/step - loss: 0.3792 - accuracy: 0.8260 - val_loss: 0.4513 - val_accuracy: 0.7977\n",
            "Epoch 46/50\n",
            "55/55 [==============================] - 118s 2s/step - loss: 0.3850 - accuracy: 0.8214 - val_loss: 0.4582 - val_accuracy: 0.7701\n",
            "Epoch 47/50\n",
            "55/55 [==============================] - 115s 2s/step - loss: 0.4109 - accuracy: 0.8203 - val_loss: 0.4331 - val_accuracy: 0.7977\n",
            "Epoch 48/50\n",
            "55/55 [==============================] - 113s 2s/step - loss: 0.3854 - accuracy: 0.8254 - val_loss: 0.4260 - val_accuracy: 0.8046\n",
            "Epoch 49/50\n",
            "55/55 [==============================] - 111s 2s/step - loss: 0.3715 - accuracy: 0.8254 - val_loss: 0.4421 - val_accuracy: 0.8023\n",
            "Epoch 50/50\n",
            "55/55 [==============================] - 112s 2s/step - loss: 0.4021 - accuracy: 0.8134 - val_loss: 0.4678 - val_accuracy: 0.7885\n"
          ]
        }
      ],
      "source": [
        "#Entrenar el modelo\n",
        "EPOCAS = 50\n",
        "\n",
        "historial = modelo.fit(\n",
        "    data_gen_entrenamiento, epochs=EPOCAS, batch_size=32,\n",
        "    validation_data=data_gen_pruebas\n",
        ")"
      ]
    },
    {
      "cell_type": "code",
      "source": [
        "# Obtener la precisión final en el conjunto de entrenamiento y de validación\n",
        "train_accuracy = historial.history['accuracy'][-1] * 100\n",
        "val_accuracy = historial.history['val_accuracy'][-1] * 100\n",
        "\n",
        "# Mostrar las precisiones\n",
        "print(f\"Precisión final en el conjunto de entrenamiento: {train_accuracy:.2f}%\")\n",
        "print(f\"Precisión final en el conjunto de validación: {val_accuracy:.2f}%\")\n"
      ],
      "metadata": {
        "id": "1K2Cx9wqY0Zl",
        "colab": {
          "base_uri": "https://localhost:8080/"
        },
        "outputId": "81c31306-3b2d-4934-f763-ee361235b41e"
      },
      "execution_count": 12,
      "outputs": [
        {
          "output_type": "stream",
          "name": "stdout",
          "text": [
            "Precisión final en el conjunto de entrenamiento: 81.34%\n",
            "Precisión final en el conjunto de validación: 78.85%\n"
          ]
        }
      ]
    },
    {
      "cell_type": "code",
      "source": [
        "#Categorizar una imagen de internet\n",
        "from PIL import Image\n",
        "import requests\n",
        "from io import BytesIO\n",
        "import cv2\n",
        "\n",
        "def categorizar(url):\n",
        "    respuesta = requests.get(url)\n",
        "    img = Image.open(BytesIO(respuesta.content))\n",
        "    img = np.array(img).astype(float)/255\n",
        "    img = cv2.resize(img, (224,224))\n",
        "    prediccion = modelo.predict(img.reshape(-1, 224, 224, 3))\n",
        "    return np.argmax(prediccion[0], axis=-1)\n",
        "\n",
        "# Mapear las predicciones a las categorías deseadas\n",
        "categorias = {0: 'Ectomicorriza', 1: 'Endomicorriza'}"
      ],
      "metadata": {
        "id": "-9ghXs6rhVki"
      },
      "execution_count": null,
      "outputs": []
    },
    {
      "cell_type": "code",
      "source": [
        "#DEBE SALIR ECTOMICORRIZA\n",
        "# URL de la imagen que deseas categorizar\n",
        "url = 'https://invam.ku.edu/sites/invam/files/images/species/Acaulospora/morrowiae/L1-L2-and-L3-of-spore-wall-gw1-gw2-2.jpeg'\n",
        "\n",
        "# Obtener la predicción\n",
        "prediccion = categorizar(url)\n",
        "\n",
        "# Imprimir la categoría correspondiente\n",
        "print(categorias[prediccion])"
      ],
      "metadata": {
        "colab": {
          "base_uri": "https://localhost:8080/"
        },
        "id": "kJSyeywGhfcT",
        "outputId": "4a16a0b6-79a0-41dd-b28b-c8e3e608f22d"
      },
      "execution_count": null,
      "outputs": [
        {
          "output_type": "stream",
          "name": "stdout",
          "text": [
            "Ectomicorriza\n"
          ]
        }
      ]
    },
    {
      "cell_type": "code",
      "source": [
        "#Crear la carpeta para exportarla a TF Serving\n",
        "!mkdir -p carpeta_salida/modelo_micorriza/1"
      ],
      "metadata": {
        "id": "EurLz-g1mrTg"
      },
      "execution_count": null,
      "outputs": []
    },
    {
      "cell_type": "code",
      "source": [
        "#Guardar el modelo en formato SavedModel\n",
        "modelo.save('carpeta_salida/modelo_micorriza/1')"
      ],
      "metadata": {
        "id": "q8D3zpdjmrW4"
      },
      "execution_count": null,
      "outputs": []
    },
    {
      "cell_type": "code",
      "source": [
        "#Hacerlo un zip para bajarlo y usarlo en otro lado\n",
        "!zip -r modelo_micorriza.zip /content/drive/MyDrive/carpeta_salida/"
      ],
      "metadata": {
        "colab": {
          "base_uri": "https://localhost:8080/"
        },
        "id": "hJN89DkPmrZV",
        "outputId": "5b30f603-2992-44ad-cc57-579ab0b8a839"
      },
      "execution_count": null,
      "outputs": [
        {
          "output_type": "stream",
          "name": "stdout",
          "text": [
            "  adding: content/drive/MyDrive/carpeta_salida/ (stored 0%)\n",
            "  adding: content/drive/MyDrive/carpeta_salida/modelo_cocina/ (stored 0%)\n",
            "  adding: content/drive/MyDrive/carpeta_salida/modelo_cocina/1/ (stored 0%)\n",
            "  adding: content/drive/MyDrive/carpeta_salida/modelo_cocina/1/variables/ (stored 0%)\n",
            "  adding: content/drive/MyDrive/carpeta_salida/modelo_cocina/1/variables/variables.data-00000-of-00001 (deflated 8%)\n",
            "  adding: content/drive/MyDrive/carpeta_salida/modelo_cocina/1/variables/variables.index (deflated 78%)\n",
            "  adding: content/drive/MyDrive/carpeta_salida/modelo_cocina/1/assets/ (stored 0%)\n",
            "  adding: content/drive/MyDrive/carpeta_salida/modelo_cocina/1/saved_model.pb (deflated 91%)\n",
            "  adding: content/drive/MyDrive/carpeta_salida/modelo_cocina/1/fingerprint.pb (stored 0%)\n",
            "  adding: content/drive/MyDrive/carpeta_salida/modelo_cocina/1/keras_metadata.pb (deflated 80%)\n",
            "  adding: content/drive/MyDrive/carpeta_salida/modelo_micorriza/ (stored 0%)\n",
            "  adding: content/drive/MyDrive/carpeta_salida/modelo_micorriza/1/ (stored 0%)\n",
            "  adding: content/drive/MyDrive/carpeta_salida/modelo_micorriza/1/variables/ (stored 0%)\n",
            "  adding: content/drive/MyDrive/carpeta_salida/modelo_micorriza/1/variables/variables.data-00000-of-00001 (deflated 8%)\n",
            "  adding: content/drive/MyDrive/carpeta_salida/modelo_micorriza/1/variables/variables.index (deflated 78%)\n",
            "  adding: content/drive/MyDrive/carpeta_salida/modelo_micorriza/1/assets/ (stored 0%)\n",
            "  adding: content/drive/MyDrive/carpeta_salida/modelo_micorriza/1/saved_model.pb (deflated 92%)\n",
            "  adding: content/drive/MyDrive/carpeta_salida/modelo_micorriza/1/keras_metadata.pb (deflated 81%)\n"
          ]
        }
      ]
    },
    {
      "cell_type": "code",
      "source": [
        "import tensorflow as tf\n",
        "\n",
        "# Después de entrenar el modelo\n",
        "modelo.save('mi_modelo.h5')\n",
        "\n",
        "# Generar un enlace de descarga\n",
        "from google.colab import files\n",
        "files.download('mi_modelo.h5')\n"
      ],
      "metadata": {
        "colab": {
          "base_uri": "https://localhost:8080/",
          "height": 17
        },
        "id": "VGMQ88Wjtvdb",
        "outputId": "3549155e-3ee1-4764-b184-f612892f3303"
      },
      "execution_count": null,
      "outputs": [
        {
          "output_type": "display_data",
          "data": {
            "text/plain": [
              "<IPython.core.display.Javascript object>"
            ],
            "application/javascript": [
              "\n",
              "    async function download(id, filename, size) {\n",
              "      if (!google.colab.kernel.accessAllowed) {\n",
              "        return;\n",
              "      }\n",
              "      const div = document.createElement('div');\n",
              "      const label = document.createElement('label');\n",
              "      label.textContent = `Downloading \"${filename}\": `;\n",
              "      div.appendChild(label);\n",
              "      const progress = document.createElement('progress');\n",
              "      progress.max = size;\n",
              "      div.appendChild(progress);\n",
              "      document.body.appendChild(div);\n",
              "\n",
              "      const buffers = [];\n",
              "      let downloaded = 0;\n",
              "\n",
              "      const channel = await google.colab.kernel.comms.open(id);\n",
              "      // Send a message to notify the kernel that we're ready.\n",
              "      channel.send({})\n",
              "\n",
              "      for await (const message of channel.messages) {\n",
              "        // Send a message to notify the kernel that we're ready.\n",
              "        channel.send({})\n",
              "        if (message.buffers) {\n",
              "          for (const buffer of message.buffers) {\n",
              "            buffers.push(buffer);\n",
              "            downloaded += buffer.byteLength;\n",
              "            progress.value = downloaded;\n",
              "          }\n",
              "        }\n",
              "      }\n",
              "      const blob = new Blob(buffers, {type: 'application/binary'});\n",
              "      const a = document.createElement('a');\n",
              "      a.href = window.URL.createObjectURL(blob);\n",
              "      a.download = filename;\n",
              "      div.appendChild(a);\n",
              "      a.click();\n",
              "      div.remove();\n",
              "    }\n",
              "  "
            ]
          },
          "metadata": {}
        },
        {
          "output_type": "display_data",
          "data": {
            "text/plain": [
              "<IPython.core.display.Javascript object>"
            ],
            "application/javascript": [
              "download(\"download_f2e64e34-3799-4321-b5fc-78b4a46617fc\", \"mi_modelo.h5\", 9317808)"
            ]
          },
          "metadata": {}
        }
      ]
    },
    {
      "cell_type": "code",
      "source": [
        "# Instalar TensorFlow.js\n",
        "!pip install tensorflowjs\n",
        "\n",
        "# Convertir el modelo Keras .h5 a TensorFlow.js\n",
        "!mkdir carpeta_salida\n",
        "!tensorflowjs_converter --input_format keras mi_modelo.h5 carpeta_salida\n",
        "\n",
        "# Descargar los archivos convertidos\n",
        "from google.colab import files\n",
        "import os\n",
        "\n",
        "output_dir = 'carpeta_salida'\n",
        "for filename in os.listdir(output_dir):\n",
        "    files.download(os.path.join(output_dir, filename))\n"
      ],
      "metadata": {
        "colab": {
          "base_uri": "https://localhost:8080/",
          "height": 1000
        },
        "id": "zeE6h2sFwXTt",
        "outputId": "1cd851ea-575c-43e8-fe22-9eb669f4173d"
      },
      "execution_count": null,
      "outputs": [
        {
          "output_type": "stream",
          "name": "stdout",
          "text": [
            "Requirement already satisfied: tensorflowjs in /usr/local/lib/python3.10/dist-packages (4.20.0)\n",
            "Requirement already satisfied: flax>=0.7.2 in /usr/local/lib/python3.10/dist-packages (from tensorflowjs) (0.8.4)\n",
            "Requirement already satisfied: importlib_resources>=5.9.0 in /usr/local/lib/python3.10/dist-packages (from tensorflowjs) (6.4.3)\n",
            "Requirement already satisfied: jax>=0.4.13 in /usr/local/lib/python3.10/dist-packages (from tensorflowjs) (0.4.26)\n",
            "Requirement already satisfied: jaxlib>=0.4.13 in /usr/local/lib/python3.10/dist-packages (from tensorflowjs) (0.4.26+cuda12.cudnn89)\n",
            "Requirement already satisfied: tensorflow<3,>=2.13.0 in /usr/local/lib/python3.10/dist-packages (from tensorflowjs) (2.17.0)\n",
            "Requirement already satisfied: tf-keras>=2.13.0 in /usr/local/lib/python3.10/dist-packages (from tensorflowjs) (2.17.0)\n",
            "Requirement already satisfied: tensorflow-decision-forests>=1.5.0 in /usr/local/lib/python3.10/dist-packages (from tensorflowjs) (1.10.0)\n",
            "Requirement already satisfied: six<2,>=1.16.0 in /usr/local/lib/python3.10/dist-packages (from tensorflowjs) (1.16.0)\n",
            "Requirement already satisfied: tensorflow-hub>=0.16.1 in /usr/local/lib/python3.10/dist-packages (from tensorflowjs) (0.16.1)\n",
            "Requirement already satisfied: packaging~=23.1 in /usr/local/lib/python3.10/dist-packages (from tensorflowjs) (23.2)\n",
            "Requirement already satisfied: numpy>=1.22 in /usr/local/lib/python3.10/dist-packages (from flax>=0.7.2->tensorflowjs) (1.26.4)\n",
            "Requirement already satisfied: msgpack in /usr/local/lib/python3.10/dist-packages (from flax>=0.7.2->tensorflowjs) (1.0.8)\n",
            "Requirement already satisfied: optax in /usr/local/lib/python3.10/dist-packages (from flax>=0.7.2->tensorflowjs) (0.2.2)\n",
            "Requirement already satisfied: orbax-checkpoint in /usr/local/lib/python3.10/dist-packages (from flax>=0.7.2->tensorflowjs) (0.6.0)\n",
            "Requirement already satisfied: tensorstore in /usr/local/lib/python3.10/dist-packages (from flax>=0.7.2->tensorflowjs) (0.1.64)\n",
            "Requirement already satisfied: rich>=11.1 in /usr/local/lib/python3.10/dist-packages (from flax>=0.7.2->tensorflowjs) (13.7.1)\n",
            "Requirement already satisfied: typing-extensions>=4.2 in /usr/local/lib/python3.10/dist-packages (from flax>=0.7.2->tensorflowjs) (4.12.2)\n",
            "Requirement already satisfied: PyYAML>=5.4.1 in /usr/local/lib/python3.10/dist-packages (from flax>=0.7.2->tensorflowjs) (6.0.2)\n",
            "Requirement already satisfied: ml-dtypes>=0.2.0 in /usr/local/lib/python3.10/dist-packages (from jax>=0.4.13->tensorflowjs) (0.4.0)\n",
            "Requirement already satisfied: opt-einsum in /usr/local/lib/python3.10/dist-packages (from jax>=0.4.13->tensorflowjs) (3.3.0)\n",
            "Requirement already satisfied: scipy>=1.9 in /usr/local/lib/python3.10/dist-packages (from jax>=0.4.13->tensorflowjs) (1.13.1)\n",
            "Requirement already satisfied: absl-py>=1.0.0 in /usr/local/lib/python3.10/dist-packages (from tensorflow<3,>=2.13.0->tensorflowjs) (1.4.0)\n",
            "Requirement already satisfied: astunparse>=1.6.0 in /usr/local/lib/python3.10/dist-packages (from tensorflow<3,>=2.13.0->tensorflowjs) (1.6.3)\n",
            "Requirement already satisfied: flatbuffers>=24.3.25 in /usr/local/lib/python3.10/dist-packages (from tensorflow<3,>=2.13.0->tensorflowjs) (24.3.25)\n",
            "Requirement already satisfied: gast!=0.5.0,!=0.5.1,!=0.5.2,>=0.2.1 in /usr/local/lib/python3.10/dist-packages (from tensorflow<3,>=2.13.0->tensorflowjs) (0.6.0)\n",
            "Requirement already satisfied: google-pasta>=0.1.1 in /usr/local/lib/python3.10/dist-packages (from tensorflow<3,>=2.13.0->tensorflowjs) (0.2.0)\n",
            "Requirement already satisfied: h5py>=3.10.0 in /usr/local/lib/python3.10/dist-packages (from tensorflow<3,>=2.13.0->tensorflowjs) (3.11.0)\n",
            "Requirement already satisfied: libclang>=13.0.0 in /usr/local/lib/python3.10/dist-packages (from tensorflow<3,>=2.13.0->tensorflowjs) (18.1.1)\n",
            "Requirement already satisfied: protobuf!=4.21.0,!=4.21.1,!=4.21.2,!=4.21.3,!=4.21.4,!=4.21.5,<5.0.0dev,>=3.20.3 in /usr/local/lib/python3.10/dist-packages (from tensorflow<3,>=2.13.0->tensorflowjs) (3.20.3)\n",
            "Requirement already satisfied: requests<3,>=2.21.0 in /usr/local/lib/python3.10/dist-packages (from tensorflow<3,>=2.13.0->tensorflowjs) (2.32.3)\n",
            "Requirement already satisfied: setuptools in /usr/local/lib/python3.10/dist-packages (from tensorflow<3,>=2.13.0->tensorflowjs) (71.0.4)\n",
            "Requirement already satisfied: termcolor>=1.1.0 in /usr/local/lib/python3.10/dist-packages (from tensorflow<3,>=2.13.0->tensorflowjs) (2.4.0)\n",
            "Requirement already satisfied: wrapt>=1.11.0 in /usr/local/lib/python3.10/dist-packages (from tensorflow<3,>=2.13.0->tensorflowjs) (1.16.0)\n",
            "Requirement already satisfied: grpcio<2.0,>=1.24.3 in /usr/local/lib/python3.10/dist-packages (from tensorflow<3,>=2.13.0->tensorflowjs) (1.64.1)\n",
            "Requirement already satisfied: tensorboard<2.18,>=2.17 in /usr/local/lib/python3.10/dist-packages (from tensorflow<3,>=2.13.0->tensorflowjs) (2.17.1)\n",
            "Requirement already satisfied: keras>=3.2.0 in /usr/local/lib/python3.10/dist-packages (from tensorflow<3,>=2.13.0->tensorflowjs) (3.5.0)\n",
            "Requirement already satisfied: tensorflow-io-gcs-filesystem>=0.23.1 in /usr/local/lib/python3.10/dist-packages (from tensorflow<3,>=2.13.0->tensorflowjs) (0.37.1)\n",
            "Requirement already satisfied: pandas in /usr/local/lib/python3.10/dist-packages (from tensorflow-decision-forests>=1.5.0->tensorflowjs) (2.1.4)\n",
            "Requirement already satisfied: wheel in /usr/local/lib/python3.10/dist-packages (from tensorflow-decision-forests>=1.5.0->tensorflowjs) (0.44.0)\n",
            "Requirement already satisfied: wurlitzer in /usr/local/lib/python3.10/dist-packages (from tensorflow-decision-forests>=1.5.0->tensorflowjs) (3.1.1)\n",
            "Requirement already satisfied: ydf in /usr/local/lib/python3.10/dist-packages (from tensorflow-decision-forests>=1.5.0->tensorflowjs) (0.7.0)\n",
            "Requirement already satisfied: namex in /usr/local/lib/python3.10/dist-packages (from keras>=3.2.0->tensorflow<3,>=2.13.0->tensorflowjs) (0.0.8)\n",
            "Requirement already satisfied: optree in /usr/local/lib/python3.10/dist-packages (from keras>=3.2.0->tensorflow<3,>=2.13.0->tensorflowjs) (0.12.1)\n",
            "Requirement already satisfied: charset-normalizer<4,>=2 in /usr/local/lib/python3.10/dist-packages (from requests<3,>=2.21.0->tensorflow<3,>=2.13.0->tensorflowjs) (3.3.2)\n",
            "Requirement already satisfied: idna<4,>=2.5 in /usr/local/lib/python3.10/dist-packages (from requests<3,>=2.21.0->tensorflow<3,>=2.13.0->tensorflowjs) (3.7)\n",
            "Requirement already satisfied: urllib3<3,>=1.21.1 in /usr/local/lib/python3.10/dist-packages (from requests<3,>=2.21.0->tensorflow<3,>=2.13.0->tensorflowjs) (2.0.7)\n",
            "Requirement already satisfied: certifi>=2017.4.17 in /usr/local/lib/python3.10/dist-packages (from requests<3,>=2.21.0->tensorflow<3,>=2.13.0->tensorflowjs) (2024.7.4)\n",
            "Requirement already satisfied: markdown-it-py>=2.2.0 in /usr/local/lib/python3.10/dist-packages (from rich>=11.1->flax>=0.7.2->tensorflowjs) (3.0.0)\n",
            "Requirement already satisfied: pygments<3.0.0,>=2.13.0 in /usr/local/lib/python3.10/dist-packages (from rich>=11.1->flax>=0.7.2->tensorflowjs) (2.16.1)\n",
            "Requirement already satisfied: markdown>=2.6.8 in /usr/local/lib/python3.10/dist-packages (from tensorboard<2.18,>=2.17->tensorflow<3,>=2.13.0->tensorflowjs) (3.7)\n",
            "Requirement already satisfied: tensorboard-data-server<0.8.0,>=0.7.0 in /usr/local/lib/python3.10/dist-packages (from tensorboard<2.18,>=2.17->tensorflow<3,>=2.13.0->tensorflowjs) (0.7.2)\n",
            "Requirement already satisfied: werkzeug>=1.0.1 in /usr/local/lib/python3.10/dist-packages (from tensorboard<2.18,>=2.17->tensorflow<3,>=2.13.0->tensorflowjs) (3.0.3)\n",
            "Requirement already satisfied: chex>=0.1.86 in /usr/local/lib/python3.10/dist-packages (from optax->flax>=0.7.2->tensorflowjs) (0.1.86)\n",
            "Requirement already satisfied: etils[epath,epy] in /usr/local/lib/python3.10/dist-packages (from orbax-checkpoint->flax>=0.7.2->tensorflowjs) (1.7.0)\n",
            "Requirement already satisfied: nest_asyncio in /usr/local/lib/python3.10/dist-packages (from orbax-checkpoint->flax>=0.7.2->tensorflowjs) (1.6.0)\n",
            "Requirement already satisfied: humanize in /usr/local/lib/python3.10/dist-packages (from orbax-checkpoint->flax>=0.7.2->tensorflowjs) (4.10.0)\n",
            "Requirement already satisfied: python-dateutil>=2.8.2 in /usr/local/lib/python3.10/dist-packages (from pandas->tensorflow-decision-forests>=1.5.0->tensorflowjs) (2.8.2)\n",
            "Requirement already satisfied: pytz>=2020.1 in /usr/local/lib/python3.10/dist-packages (from pandas->tensorflow-decision-forests>=1.5.0->tensorflowjs) (2024.1)\n",
            "Requirement already satisfied: tzdata>=2022.1 in /usr/local/lib/python3.10/dist-packages (from pandas->tensorflow-decision-forests>=1.5.0->tensorflowjs) (2024.1)\n",
            "Requirement already satisfied: toolz>=0.9.0 in /usr/local/lib/python3.10/dist-packages (from chex>=0.1.86->optax->flax>=0.7.2->tensorflowjs) (0.12.1)\n",
            "Requirement already satisfied: mdurl~=0.1 in /usr/local/lib/python3.10/dist-packages (from markdown-it-py>=2.2.0->rich>=11.1->flax>=0.7.2->tensorflowjs) (0.1.2)\n",
            "Requirement already satisfied: MarkupSafe>=2.1.1 in /usr/local/lib/python3.10/dist-packages (from werkzeug>=1.0.1->tensorboard<2.18,>=2.17->tensorflow<3,>=2.13.0->tensorflowjs) (2.1.5)\n",
            "Requirement already satisfied: fsspec in /usr/local/lib/python3.10/dist-packages (from etils[epath,epy]->orbax-checkpoint->flax>=0.7.2->tensorflowjs) (2024.6.1)\n",
            "Requirement already satisfied: zipp in /usr/local/lib/python3.10/dist-packages (from etils[epath,epy]->orbax-checkpoint->flax>=0.7.2->tensorflowjs) (3.20.0)\n",
            "mkdir: cannot create directory ‘carpeta_salida’: File exists\n",
            "2024-08-23 19:40:54.758758: E external/local_xla/xla/stream_executor/cuda/cuda_fft.cc:485] Unable to register cuFFT factory: Attempting to register factory for plugin cuFFT when one has already been registered\n",
            "2024-08-23 19:40:54.787416: E external/local_xla/xla/stream_executor/cuda/cuda_dnn.cc:8454] Unable to register cuDNN factory: Attempting to register factory for plugin cuDNN when one has already been registered\n",
            "2024-08-23 19:40:54.795375: E external/local_xla/xla/stream_executor/cuda/cuda_blas.cc:1452] Unable to register cuBLAS factory: Attempting to register factory for plugin cuBLAS when one has already been registered\n",
            "2024-08-23 19:40:56.235395: W tensorflow/compiler/tf2tensorrt/utils/py_utils.cc:38] TF-TRT Warning: Could not find TensorRT\n"
          ]
        },
        {
          "output_type": "display_data",
          "data": {
            "text/plain": [
              "<IPython.core.display.Javascript object>"
            ],
            "application/javascript": [
              "\n",
              "    async function download(id, filename, size) {\n",
              "      if (!google.colab.kernel.accessAllowed) {\n",
              "        return;\n",
              "      }\n",
              "      const div = document.createElement('div');\n",
              "      const label = document.createElement('label');\n",
              "      label.textContent = `Downloading \"${filename}\": `;\n",
              "      div.appendChild(label);\n",
              "      const progress = document.createElement('progress');\n",
              "      progress.max = size;\n",
              "      div.appendChild(progress);\n",
              "      document.body.appendChild(div);\n",
              "\n",
              "      const buffers = [];\n",
              "      let downloaded = 0;\n",
              "\n",
              "      const channel = await google.colab.kernel.comms.open(id);\n",
              "      // Send a message to notify the kernel that we're ready.\n",
              "      channel.send({})\n",
              "\n",
              "      for await (const message of channel.messages) {\n",
              "        // Send a message to notify the kernel that we're ready.\n",
              "        channel.send({})\n",
              "        if (message.buffers) {\n",
              "          for (const buffer of message.buffers) {\n",
              "            buffers.push(buffer);\n",
              "            downloaded += buffer.byteLength;\n",
              "            progress.value = downloaded;\n",
              "          }\n",
              "        }\n",
              "      }\n",
              "      const blob = new Blob(buffers, {type: 'application/binary'});\n",
              "      const a = document.createElement('a');\n",
              "      a.href = window.URL.createObjectURL(blob);\n",
              "      a.download = filename;\n",
              "      div.appendChild(a);\n",
              "      a.click();\n",
              "      div.remove();\n",
              "    }\n",
              "  "
            ]
          },
          "metadata": {}
        },
        {
          "output_type": "display_data",
          "data": {
            "text/plain": [
              "<IPython.core.display.Javascript object>"
            ],
            "application/javascript": [
              "download(\"download_1f0bc21b-ea13-4f30-a69f-7f5b6a045d09\", \"modelo_micorriza\", 4096)"
            ]
          },
          "metadata": {}
        },
        {
          "output_type": "display_data",
          "data": {
            "text/plain": [
              "<IPython.core.display.Javascript object>"
            ],
            "application/javascript": [
              "\n",
              "    async function download(id, filename, size) {\n",
              "      if (!google.colab.kernel.accessAllowed) {\n",
              "        return;\n",
              "      }\n",
              "      const div = document.createElement('div');\n",
              "      const label = document.createElement('label');\n",
              "      label.textContent = `Downloading \"${filename}\": `;\n",
              "      div.appendChild(label);\n",
              "      const progress = document.createElement('progress');\n",
              "      progress.max = size;\n",
              "      div.appendChild(progress);\n",
              "      document.body.appendChild(div);\n",
              "\n",
              "      const buffers = [];\n",
              "      let downloaded = 0;\n",
              "\n",
              "      const channel = await google.colab.kernel.comms.open(id);\n",
              "      // Send a message to notify the kernel that we're ready.\n",
              "      channel.send({})\n",
              "\n",
              "      for await (const message of channel.messages) {\n",
              "        // Send a message to notify the kernel that we're ready.\n",
              "        channel.send({})\n",
              "        if (message.buffers) {\n",
              "          for (const buffer of message.buffers) {\n",
              "            buffers.push(buffer);\n",
              "            downloaded += buffer.byteLength;\n",
              "            progress.value = downloaded;\n",
              "          }\n",
              "        }\n",
              "      }\n",
              "      const blob = new Blob(buffers, {type: 'application/binary'});\n",
              "      const a = document.createElement('a');\n",
              "      a.href = window.URL.createObjectURL(blob);\n",
              "      a.download = filename;\n",
              "      div.appendChild(a);\n",
              "      a.click();\n",
              "      div.remove();\n",
              "    }\n",
              "  "
            ]
          },
          "metadata": {}
        },
        {
          "output_type": "display_data",
          "data": {
            "text/plain": [
              "<IPython.core.display.Javascript object>"
            ],
            "application/javascript": [
              "download(\"download_d26df8b9-6f0f-4cc2-ad39-6815ca155a7d\", \"group1-shard1of3.bin\", 4194304)"
            ]
          },
          "metadata": {}
        },
        {
          "output_type": "display_data",
          "data": {
            "text/plain": [
              "<IPython.core.display.Javascript object>"
            ],
            "application/javascript": [
              "\n",
              "    async function download(id, filename, size) {\n",
              "      if (!google.colab.kernel.accessAllowed) {\n",
              "        return;\n",
              "      }\n",
              "      const div = document.createElement('div');\n",
              "      const label = document.createElement('label');\n",
              "      label.textContent = `Downloading \"${filename}\": `;\n",
              "      div.appendChild(label);\n",
              "      const progress = document.createElement('progress');\n",
              "      progress.max = size;\n",
              "      div.appendChild(progress);\n",
              "      document.body.appendChild(div);\n",
              "\n",
              "      const buffers = [];\n",
              "      let downloaded = 0;\n",
              "\n",
              "      const channel = await google.colab.kernel.comms.open(id);\n",
              "      // Send a message to notify the kernel that we're ready.\n",
              "      channel.send({})\n",
              "\n",
              "      for await (const message of channel.messages) {\n",
              "        // Send a message to notify the kernel that we're ready.\n",
              "        channel.send({})\n",
              "        if (message.buffers) {\n",
              "          for (const buffer of message.buffers) {\n",
              "            buffers.push(buffer);\n",
              "            downloaded += buffer.byteLength;\n",
              "            progress.value = downloaded;\n",
              "          }\n",
              "        }\n",
              "      }\n",
              "      const blob = new Blob(buffers, {type: 'application/binary'});\n",
              "      const a = document.createElement('a');\n",
              "      a.href = window.URL.createObjectURL(blob);\n",
              "      a.download = filename;\n",
              "      div.appendChild(a);\n",
              "      a.click();\n",
              "      div.remove();\n",
              "    }\n",
              "  "
            ]
          },
          "metadata": {}
        },
        {
          "output_type": "display_data",
          "data": {
            "text/plain": [
              "<IPython.core.display.Javascript object>"
            ],
            "application/javascript": [
              "download(\"download_fc1129d0-0a7d-4f64-a66e-85a53b12ec0b\", \"group1-shard2of3.bin\", 4194304)"
            ]
          },
          "metadata": {}
        },
        {
          "output_type": "display_data",
          "data": {
            "text/plain": [
              "<IPython.core.display.Javascript object>"
            ],
            "application/javascript": [
              "\n",
              "    async function download(id, filename, size) {\n",
              "      if (!google.colab.kernel.accessAllowed) {\n",
              "        return;\n",
              "      }\n",
              "      const div = document.createElement('div');\n",
              "      const label = document.createElement('label');\n",
              "      label.textContent = `Downloading \"${filename}\": `;\n",
              "      div.appendChild(label);\n",
              "      const progress = document.createElement('progress');\n",
              "      progress.max = size;\n",
              "      div.appendChild(progress);\n",
              "      document.body.appendChild(div);\n",
              "\n",
              "      const buffers = [];\n",
              "      let downloaded = 0;\n",
              "\n",
              "      const channel = await google.colab.kernel.comms.open(id);\n",
              "      // Send a message to notify the kernel that we're ready.\n",
              "      channel.send({})\n",
              "\n",
              "      for await (const message of channel.messages) {\n",
              "        // Send a message to notify the kernel that we're ready.\n",
              "        channel.send({})\n",
              "        if (message.buffers) {\n",
              "          for (const buffer of message.buffers) {\n",
              "            buffers.push(buffer);\n",
              "            downloaded += buffer.byteLength;\n",
              "            progress.value = downloaded;\n",
              "          }\n",
              "        }\n",
              "      }\n",
              "      const blob = new Blob(buffers, {type: 'application/binary'});\n",
              "      const a = document.createElement('a');\n",
              "      a.href = window.URL.createObjectURL(blob);\n",
              "      a.download = filename;\n",
              "      div.appendChild(a);\n",
              "      a.click();\n",
              "      div.remove();\n",
              "    }\n",
              "  "
            ]
          },
          "metadata": {}
        },
        {
          "output_type": "display_data",
          "data": {
            "text/plain": [
              "<IPython.core.display.Javascript object>"
            ],
            "application/javascript": [
              "download(\"download_9f9f9df0-43a8-4438-9170-749fd4b79ae6\", \"group1-shard3of3.bin\", 653576)"
            ]
          },
          "metadata": {}
        },
        {
          "output_type": "display_data",
          "data": {
            "text/plain": [
              "<IPython.core.display.Javascript object>"
            ],
            "application/javascript": [
              "\n",
              "    async function download(id, filename, size) {\n",
              "      if (!google.colab.kernel.accessAllowed) {\n",
              "        return;\n",
              "      }\n",
              "      const div = document.createElement('div');\n",
              "      const label = document.createElement('label');\n",
              "      label.textContent = `Downloading \"${filename}\": `;\n",
              "      div.appendChild(label);\n",
              "      const progress = document.createElement('progress');\n",
              "      progress.max = size;\n",
              "      div.appendChild(progress);\n",
              "      document.body.appendChild(div);\n",
              "\n",
              "      const buffers = [];\n",
              "      let downloaded = 0;\n",
              "\n",
              "      const channel = await google.colab.kernel.comms.open(id);\n",
              "      // Send a message to notify the kernel that we're ready.\n",
              "      channel.send({})\n",
              "\n",
              "      for await (const message of channel.messages) {\n",
              "        // Send a message to notify the kernel that we're ready.\n",
              "        channel.send({})\n",
              "        if (message.buffers) {\n",
              "          for (const buffer of message.buffers) {\n",
              "            buffers.push(buffer);\n",
              "            downloaded += buffer.byteLength;\n",
              "            progress.value = downloaded;\n",
              "          }\n",
              "        }\n",
              "      }\n",
              "      const blob = new Blob(buffers, {type: 'application/binary'});\n",
              "      const a = document.createElement('a');\n",
              "      a.href = window.URL.createObjectURL(blob);\n",
              "      a.download = filename;\n",
              "      div.appendChild(a);\n",
              "      a.click();\n",
              "      div.remove();\n",
              "    }\n",
              "  "
            ]
          },
          "metadata": {}
        },
        {
          "output_type": "display_data",
          "data": {
            "text/plain": [
              "<IPython.core.display.Javascript object>"
            ],
            "application/javascript": [
              "download(\"download_e7a23321-8ced-4325-a9a4-8bf8bc47b4aa\", \"model.json\", 29021)"
            ]
          },
          "metadata": {}
        }
      ]
    },
    {
      "cell_type": "markdown",
      "source": [],
      "metadata": {
        "id": "oLQGiRyrgcyE"
      }
    },
    {
      "cell_type": "markdown",
      "source": [],
      "metadata": {
        "id": "im2k5oKRgdj4"
      }
    },
    {
      "cell_type": "markdown",
      "source": [],
      "metadata": {
        "id": "Ykc0i1yXgdnB"
      }
    },
    {
      "cell_type": "markdown",
      "source": [],
      "metadata": {
        "id": "nGJ5Q1Uhgdp6"
      }
    },
    {
      "cell_type": "markdown",
      "source": [],
      "metadata": {
        "id": "VWnspcqogdsZ"
      }
    },
    {
      "cell_type": "markdown",
      "source": [],
      "metadata": {
        "id": "_nKX18Jjgdux"
      }
    },
    {
      "cell_type": "markdown",
      "source": [],
      "metadata": {
        "id": "KJyTX6Cngdw-"
      }
    },
    {
      "cell_type": "markdown",
      "source": [],
      "metadata": {
        "id": "LQ162pSdgd01"
      }
    },
    {
      "cell_type": "markdown",
      "source": [],
      "metadata": {
        "id": "PppdkrEFgd3P"
      }
    },
    {
      "cell_type": "markdown",
      "source": [],
      "metadata": {
        "id": "mky1fluYgd5g"
      }
    },
    {
      "cell_type": "markdown",
      "source": [],
      "metadata": {
        "id": "UbdPWfT8gd8R"
      }
    },
    {
      "cell_type": "markdown",
      "source": [],
      "metadata": {
        "id": "N1mjuhRegd_U"
      }
    },
    {
      "cell_type": "markdown",
      "source": [],
      "metadata": {
        "id": "74uwiqclgeBl"
      }
    }
  ],
  "metadata": {
    "colab": {
      "provenance": []
    },
    "kernelspec": {
      "display_name": "Python 3",
      "name": "python3"
    },
    "language_info": {
      "name": "python"
    }
  },
  "nbformat": 4,
  "nbformat_minor": 0
}